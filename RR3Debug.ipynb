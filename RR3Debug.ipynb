{
 "cells": [
  {
   "cell_type": "code",
   "execution_count": 1,
   "metadata": {},
   "outputs": [
    {
     "name": "stderr",
     "output_type": "stream",
     "text": [
      "2024-10-17 13:53:11.959757: E external/local_xla/xla/stream_executor/cuda/cuda_dnn.cc:9261] Unable to register cuDNN factory: Attempting to register factory for plugin cuDNN when one has already been registered\n",
      "2024-10-17 13:53:11.959818: E external/local_xla/xla/stream_executor/cuda/cuda_fft.cc:607] Unable to register cuFFT factory: Attempting to register factory for plugin cuFFT when one has already been registered\n",
      "2024-10-17 13:53:11.961141: E external/local_xla/xla/stream_executor/cuda/cuda_blas.cc:1515] Unable to register cuBLAS factory: Attempting to register factory for plugin cuBLAS when one has already been registered\n",
      "2024-10-17 13:53:11.969305: I tensorflow/core/platform/cpu_feature_guard.cc:182] This TensorFlow binary is optimized to use available CPU instructions in performance-critical operations.\n",
      "To enable the following instructions: AVX2 FMA, in other operations, rebuild TensorFlow with the appropriate compiler flags.\n",
      "2024-10-17 13:53:12.934640: W tensorflow/compiler/tf2tensorrt/utils/py_utils.cc:38] TF-TRT Warning: Could not find TensorRT\n"
     ]
    },
    {
     "data": {
      "application/vnd.jupyter.widget-view+json": {
       "model_id": "5bfbf011cd9f42a98b01aecb1480e289",
       "version_major": 2,
       "version_minor": 0
      },
      "text/plain": [
       "tokenizer_config.json:   0%|          | 0.00/48.0 [00:00<?, ?B/s]"
      ]
     },
     "metadata": {},
     "output_type": "display_data"
    },
    {
     "data": {
      "application/vnd.jupyter.widget-view+json": {
       "model_id": "3c36d2008ddc48209d84b3369c364ff4",
       "version_major": 2,
       "version_minor": 0
      },
      "text/plain": [
       "vocab.txt:   0%|          | 0.00/232k [00:00<?, ?B/s]"
      ]
     },
     "metadata": {},
     "output_type": "display_data"
    },
    {
     "data": {
      "application/vnd.jupyter.widget-view+json": {
       "model_id": "fd62c11833c941fda29a196fb5170c32",
       "version_major": 2,
       "version_minor": 0
      },
      "text/plain": [
       "tokenizer.json:   0%|          | 0.00/466k [00:00<?, ?B/s]"
      ]
     },
     "metadata": {},
     "output_type": "display_data"
    },
    {
     "data": {
      "application/vnd.jupyter.widget-view+json": {
       "model_id": "7f7ad08e6edf484e8a12d1706647380e",
       "version_major": 2,
       "version_minor": 0
      },
      "text/plain": [
       "config.json:   0%|          | 0.00/483 [00:00<?, ?B/s]"
      ]
     },
     "metadata": {},
     "output_type": "display_data"
    },
    {
     "data": {
      "application/vnd.jupyter.widget-view+json": {
       "model_id": "e6344ae6ee9a4e3fa68d55edbb28bab5",
       "version_major": 2,
       "version_minor": 0
      },
      "text/plain": [
       "model.safetensors:   0%|          | 0.00/268M [00:00<?, ?B/s]"
      ]
     },
     "metadata": {},
     "output_type": "display_data"
    },
    {
     "name": "stderr",
     "output_type": "stream",
     "text": [
      "Some weights of DistilBertForSequenceClassification were not initialized from the model checkpoint at distilbert-base-uncased and are newly initialized: ['classifier.weight', 'pre_classifier.bias', 'pre_classifier.weight', 'classifier.bias']\n",
      "You should probably TRAIN this model on a down-stream task to be able to use it for predictions and inference.\n",
      "Using the `WANDB_DISABLED` environment variable is deprecated and will be removed in v5. Use the --report_to flag to control the integrations used for logging result (for instance --report_to none).\n"
     ]
    },
    {
     "name": "stdout",
     "output_type": "stream",
     "text": [
      "Running Fold 1\n"
     ]
    },
    {
     "data": {
      "text/html": [
       "\n",
       "    <div>\n",
       "      \n",
       "      <progress value='12775' max='12775' style='width:300px; height:20px; vertical-align: middle;'></progress>\n",
       "      [12775/12775 37:38, Epoch 5/5]\n",
       "    </div>\n",
       "    <table border=\"1\" class=\"dataframe\">\n",
       "  <thead>\n",
       " <tr style=\"text-align: left;\">\n",
       "      <th>Epoch</th>\n",
       "      <th>Training Loss</th>\n",
       "      <th>Validation Loss</th>\n",
       "    </tr>\n",
       "  </thead>\n",
       "  <tbody>\n",
       "    <tr>\n",
       "      <td>1</td>\n",
       "      <td>0.694300</td>\n",
       "      <td>0.553215</td>\n",
       "    </tr>\n",
       "    <tr>\n",
       "      <td>2</td>\n",
       "      <td>0.512500</td>\n",
       "      <td>0.465080</td>\n",
       "    </tr>\n",
       "    <tr>\n",
       "      <td>3</td>\n",
       "      <td>0.485600</td>\n",
       "      <td>0.411837</td>\n",
       "    </tr>\n",
       "    <tr>\n",
       "      <td>4</td>\n",
       "      <td>0.343100</td>\n",
       "      <td>0.382135</td>\n",
       "    </tr>\n",
       "    <tr>\n",
       "      <td>5</td>\n",
       "      <td>0.405200</td>\n",
       "      <td>0.370627</td>\n",
       "    </tr>\n",
       "  </tbody>\n",
       "</table><p>"
      ],
      "text/plain": [
       "<IPython.core.display.HTML object>"
      ]
     },
     "metadata": {},
     "output_type": "display_data"
    },
    {
     "data": {
      "text/html": [],
      "text/plain": [
       "<IPython.core.display.HTML object>"
      ]
     },
     "metadata": {},
     "output_type": "display_data"
    },
    {
     "name": "stdout",
     "output_type": "stream",
     "text": [
      "Running Fold 2\n"
     ]
    },
    {
     "data": {
      "text/html": [
       "\n",
       "    <div>\n",
       "      \n",
       "      <progress value='12775' max='12775' style='width:300px; height:20px; vertical-align: middle;'></progress>\n",
       "      [12775/12775 37:24, Epoch 5/5]\n",
       "    </div>\n",
       "    <table border=\"1\" class=\"dataframe\">\n",
       "  <thead>\n",
       " <tr style=\"text-align: left;\">\n",
       "      <th>Epoch</th>\n",
       "      <th>Training Loss</th>\n",
       "      <th>Validation Loss</th>\n",
       "    </tr>\n",
       "  </thead>\n",
       "  <tbody>\n",
       "    <tr>\n",
       "      <td>1</td>\n",
       "      <td>0.433300</td>\n",
       "      <td>0.289155</td>\n",
       "    </tr>\n",
       "    <tr>\n",
       "      <td>2</td>\n",
       "      <td>0.324900</td>\n",
       "      <td>0.243419</td>\n",
       "    </tr>\n",
       "    <tr>\n",
       "      <td>3</td>\n",
       "      <td>0.282300</td>\n",
       "      <td>0.210019</td>\n",
       "    </tr>\n",
       "    <tr>\n",
       "      <td>4</td>\n",
       "      <td>0.345800</td>\n",
       "      <td>0.198603</td>\n",
       "    </tr>\n",
       "    <tr>\n",
       "      <td>5</td>\n",
       "      <td>0.247400</td>\n",
       "      <td>0.194467</td>\n",
       "    </tr>\n",
       "  </tbody>\n",
       "</table><p>"
      ],
      "text/plain": [
       "<IPython.core.display.HTML object>"
      ]
     },
     "metadata": {},
     "output_type": "display_data"
    },
    {
     "data": {
      "text/html": [],
      "text/plain": [
       "<IPython.core.display.HTML object>"
      ]
     },
     "metadata": {},
     "output_type": "display_data"
    },
    {
     "name": "stdout",
     "output_type": "stream",
     "text": [
      "Running Fold 3\n"
     ]
    },
    {
     "data": {
      "text/html": [
       "\n",
       "    <div>\n",
       "      \n",
       "      <progress value='12775' max='12775' style='width:300px; height:20px; vertical-align: middle;'></progress>\n",
       "      [12775/12775 37:30, Epoch 5/5]\n",
       "    </div>\n",
       "    <table border=\"1\" class=\"dataframe\">\n",
       "  <thead>\n",
       " <tr style=\"text-align: left;\">\n",
       "      <th>Epoch</th>\n",
       "      <th>Training Loss</th>\n",
       "      <th>Validation Loss</th>\n",
       "    </tr>\n",
       "  </thead>\n",
       "  <tbody>\n",
       "    <tr>\n",
       "      <td>1</td>\n",
       "      <td>0.258600</td>\n",
       "      <td>0.146135</td>\n",
       "    </tr>\n",
       "    <tr>\n",
       "      <td>2</td>\n",
       "      <td>0.200600</td>\n",
       "      <td>0.127005</td>\n",
       "    </tr>\n",
       "    <tr>\n",
       "      <td>3</td>\n",
       "      <td>0.167800</td>\n",
       "      <td>0.119983</td>\n",
       "    </tr>\n",
       "    <tr>\n",
       "      <td>4</td>\n",
       "      <td>0.168500</td>\n",
       "      <td>0.115293</td>\n",
       "    </tr>\n",
       "    <tr>\n",
       "      <td>5</td>\n",
       "      <td>0.198500</td>\n",
       "      <td>0.111018</td>\n",
       "    </tr>\n",
       "  </tbody>\n",
       "</table><p>"
      ],
      "text/plain": [
       "<IPython.core.display.HTML object>"
      ]
     },
     "metadata": {},
     "output_type": "display_data"
    },
    {
     "data": {
      "text/html": [],
      "text/plain": [
       "<IPython.core.display.HTML object>"
      ]
     },
     "metadata": {},
     "output_type": "display_data"
    },
    {
     "name": "stdout",
     "output_type": "stream",
     "text": [
      "Avg Accuracy: 0.9198147060742481\n",
      "Avg Precision: 0.920401176453891\n",
      "Avg Recall: 0.9198147060742481\n",
      "Avg F1 score: 0.9197869333589356\n"
     ]
    }
   ],
   "source": [
    "import os\n",
    "from typing import List, Tuple\n",
    "\n",
    "import numpy as np\n",
    "import pandas as pd\n",
    "from datasets import Dataset\n",
    "from peft import LoraConfig, TaskType, get_peft_model\n",
    "from sklearn import metrics, model_selection, utils\n",
    "from transformers import (DistilBertForSequenceClassification, DistilBertTokenizer,\n",
    "                          Trainer, TrainingArguments)\n",
    "\n",
    "# Constants\n",
    "FILE_PATH = '/notebooks/Datafiniti_Amazon_Consumer_Reviews_of_Amazon_Products_May19.csv'\n",
    "COLUMNS_TO_KEEP = ['name', 'brand', 'primaryCategories', 'reviews.text', 'reviews.rating']\n",
    "RANDOM_STATE = 42\n",
    "MAX_LENGTH = 512\n",
    "NUM_LABELS = 3\n",
    "NUM_FOLDS = 3\n",
    "\n",
    "os.environ[\"WANDB_DISABLED\"] = \"true\"  # Disable WandB\n",
    "\n",
    "def load_and_preprocess_data(file_path: str, columns: List[str]) -> pd.DataFrame:\n",
    "    df = pd.read_csv(file_path)\n",
    "    return df[columns]\n",
    "\n",
    "def balance_dataset(df: pd.DataFrame) -> pd.DataFrame:\n",
    "    positive_reviews = df[df['reviews.rating'] >= 4]\n",
    "    neutral_reviews = df[df['reviews.rating'] == 3]\n",
    "    negative_reviews = df[df['reviews.rating'] <= 2]\n",
    "\n",
    "    max_class_size = max(len(positive_reviews), len(neutral_reviews), len(negative_reviews))\n",
    "    \n",
    "    positive_upsampled = utils.resample(positive_reviews, replace=True, n_samples=max_class_size, random_state=RANDOM_STATE)\n",
    "    neutral_upsampled = utils.resample(neutral_reviews, replace=True, n_samples=max_class_size, random_state=RANDOM_STATE)\n",
    "    negative_upsampled = utils.resample(negative_reviews, replace=True, n_samples=max_class_size, random_state=RANDOM_STATE)\n",
    "\n",
    "    df_balanced = pd.concat([positive_upsampled, neutral_upsampled, negative_upsampled]).sample(frac=1, random_state=RANDOM_STATE)\n",
    "    df_balanced['labels'] = df_balanced['reviews.rating'].map(lambda rating: 0 if rating <= 2 else (1 if rating == 3 else 2))\n",
    "    \n",
    "    return df_balanced\n",
    "\n",
    "def prepare_datasets(df: pd.DataFrame) -> Tuple[pd.Series, pd.Series, pd.Series, pd.Series]:\n",
    "    return model_selection.train_test_split(\n",
    "        df['reviews.text'], df['labels'], test_size=0.2, random_state=RANDOM_STATE\n",
    "    )\n",
    "\n",
    "def tokenize_data(tokenizer, texts, max_length=MAX_LENGTH):\n",
    "    return tokenizer(\n",
    "        texts.tolist(),\n",
    "        truncation=True,\n",
    "        padding='max_length',\n",
    "        max_length=max_length,\n",
    "        return_tensors='pt'\n",
    "    )\n",
    "\n",
    "def create_hf_dataset(encodings, labels):\n",
    "    return Dataset.from_dict({\n",
    "        'input_ids': encodings['input_ids'].tolist(),\n",
    "        'attention_mask': encodings['attention_mask'].tolist(),\n",
    "        'labels': labels.tolist()\n",
    "    })\n",
    "\n",
    "def setup_model_and_trainer(num_labels, lora_config, training_args, train_dataset):\n",
    "    model = DistilBertForSequenceClassification.from_pretrained('distilbert-base-uncased', num_labels=num_labels)\n",
    "    model = get_peft_model(model, lora_config)\n",
    "    return Trainer(model=model, args=training_args, train_dataset=train_dataset)\n",
    "\n",
    "def run_cross_validation(trainer, X_train, y_train, tokenizer, n_splits=NUM_FOLDS):\n",
    "    kf = model_selection.KFold(n_splits=n_splits)\n",
    "    fold_metrics = []\n",
    "\n",
    "    for fold, (train_idx, val_idx) in enumerate(kf.split(X_train)):\n",
    "        print(f\"Running Fold {fold + 1}\")\n",
    "\n",
    "        X_fold_train, X_fold_val = X_train.iloc[train_idx], X_train.iloc[val_idx]\n",
    "        y_fold_train, y_fold_val = y_train.iloc[train_idx], y_train.iloc[val_idx]\n",
    "\n",
    "        fold_train_encodings = tokenize_data(tokenizer, X_fold_train)\n",
    "        fold_val_encodings = tokenize_data(tokenizer, X_fold_val)\n",
    "\n",
    "        fold_train_dataset = create_hf_dataset(fold_train_encodings, y_fold_train)\n",
    "        fold_val_dataset = create_hf_dataset(fold_val_encodings, y_fold_val)\n",
    "\n",
    "        trainer.train_dataset = fold_train_dataset\n",
    "        trainer.eval_dataset = fold_val_dataset\n",
    "\n",
    "        trainer.train()\n",
    "        predictions = trainer.predict(fold_val_dataset)\n",
    "        preds = np.argmax(predictions.predictions, axis=1)\n",
    "\n",
    "        fold_metrics.append({\n",
    "            'fold': fold + 1,\n",
    "            'accuracy': metrics.accuracy_score(y_fold_val, preds),\n",
    "            'precision': metrics.precision_score(y_fold_val, preds, average='weighted'),\n",
    "            'recall': metrics.recall_score(y_fold_val, preds, average='weighted'),\n",
    "            'f1': metrics.f1_score(y_fold_val, preds, average='weighted')\n",
    "        })\n",
    "\n",
    "    return fold_metrics\n",
    "\n",
    "def main():\n",
    "    df = load_and_preprocess_data(FILE_PATH, COLUMNS_TO_KEEP)\n",
    "    df_balanced = balance_dataset(df)\n",
    "    X_train, X_test, y_train, y_test = prepare_datasets(df_balanced)\n",
    "\n",
    "    tokenizer = DistilBertTokenizer.from_pretrained('distilbert-base-uncased')\n",
    "    train_encodings = tokenize_data(tokenizer, X_train)\n",
    "    train_dataset = create_hf_dataset(train_encodings, y_train)\n",
    "\n",
    "    lora_config = LoraConfig(\n",
    "        task_type=TaskType.SEQ_CLS,\n",
    "        r=8,\n",
    "        lora_alpha=32,\n",
    "        lora_dropout=0.1,\n",
    "        target_modules=[\"q_lin\", \"v_lin\"]\n",
    "    )\n",
    "\n",
    "    training_args = TrainingArguments(\n",
    "        output_dir='./results',\n",
    "        learning_rate=2e-5,\n",
    "        per_device_train_batch_size=16,\n",
    "        per_device_eval_batch_size=16,\n",
    "        num_train_epochs=5,\n",
    "        weight_decay=0.01,\n",
    "        evaluation_strategy=\"epoch\",\n",
    "        logging_dir='./logs',\n",
    "        logging_steps=10,\n",
    "        save_total_limit=1,\n",
    "        no_cuda=False\n",
    "    )\n",
    "\n",
    "    trainer = setup_model_and_trainer(NUM_LABELS, lora_config, training_args, train_dataset)\n",
    "    fold_metrics = run_cross_validation(trainer, X_train, y_train, tokenizer)\n",
    "\n",
    "    avg_metrics = {metric: np.mean([f[metric] for f in fold_metrics]) \n",
    "                   for metric in ['accuracy', 'precision', 'recall', 'f1']}\n",
    "    \n",
    "    for metric, value in avg_metrics.items():\n",
    "        print(f\"Avg {metric.capitalize()}: {value:.4f}\")\n",
    "\n",
    "if __name__ == \"__main__\":\n",
    "    main()\n"
   ]
  },
  {
   "cell_type": "markdown",
   "metadata": {},
   "source": [
    "Saving the model"
   ]
  },
  {
   "cell_type": "code",
   "execution_count": 6,
   "metadata": {},
   "outputs": [
    {
     "name": "stdout",
     "output_type": "stream",
     "text": [
      "Final model and tokenizer saved to C:\\Users\\fmrol\\Documents\\GitHub\\RobotReviews\\fredsmeds_classifier\n"
     ]
    }
   ],
   "source": [
    "# Save the final model and tokenizer after all cross-validation and training is done\n",
    "output_dir = r\"C:\\Users\\fmrol\\Documents\\GitHub\\RobotReviews\\fredsmeds_classifier\"\n",
    "trainer.save_model(output_dir)  # Save the fine-tuned model\n",
    "tokenizer.save_pretrained(output_dir)  # Save the tokenizer\n",
    "\n",
    "print(f\"Final model and tokenizer saved to {output_dir}\")\n"
   ]
  }
 ],
 "metadata": {
  "kernelspec": {
   "display_name": "Python 3 (ipykernel)",
   "language": "python",
   "name": "python3"
  },
  "language_info": {
   "codemirror_mode": {
    "name": "ipython",
    "version": 3
   },
   "file_extension": ".py",
   "mimetype": "text/x-python",
   "name": "python",
   "nbconvert_exporter": "python",
   "pygments_lexer": "ipython3",
   "version": "3.11.7"
  }
 },
 "nbformat": 4,
 "nbformat_minor": 2
}
