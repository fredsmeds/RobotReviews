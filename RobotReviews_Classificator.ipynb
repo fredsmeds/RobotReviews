{
 "cells": [
  {
   "cell_type": "markdown",
   "metadata": {},
   "source": [
    "# Robot Reviews\n",
    "Classification Model"
   ]
  },
  {
   "cell_type": "code",
   "execution_count": 1,
   "metadata": {},
   "outputs": [
    {
     "name": "stderr",
     "output_type": "stream",
     "text": [
      "2024-10-18 01:15:35.168162: E external/local_xla/xla/stream_executor/cuda/cuda_dnn.cc:9261] Unable to register cuDNN factory: Attempting to register factory for plugin cuDNN when one has already been registered\n",
      "2024-10-18 01:15:35.168219: E external/local_xla/xla/stream_executor/cuda/cuda_fft.cc:607] Unable to register cuFFT factory: Attempting to register factory for plugin cuFFT when one has already been registered\n",
      "2024-10-18 01:15:35.169371: E external/local_xla/xla/stream_executor/cuda/cuda_blas.cc:1515] Unable to register cuBLAS factory: Attempting to register factory for plugin cuBLAS when one has already been registered\n",
      "2024-10-18 01:15:35.175394: I tensorflow/core/platform/cpu_feature_guard.cc:182] This TensorFlow binary is optimized to use available CPU instructions in performance-critical operations.\n",
      "To enable the following instructions: AVX2 FMA, in other operations, rebuild TensorFlow with the appropriate compiler flags.\n",
      "2024-10-18 01:15:36.131941: W tensorflow/compiler/tf2tensorrt/utils/py_utils.cc:38] TF-TRT Warning: Could not find TensorRT\n"
     ]
    }
   ],
   "source": [
    "import os\n",
    "from typing import List, Tuple\n",
    "\n",
    "import numpy as np\n",
    "import pandas as pd\n",
    "import matplotlib.pyplot as plt\n",
    "import seaborn as sns\n",
    "import torch\n",
    "from peft import PeftModel, PeftConfig\n",
    "from datasets import Dataset\n",
    "from peft import LoraConfig, TaskType, get_peft_model\n",
    "from sklearn import metrics, model_selection, utils\n",
    "from transformers import (DistilBertForSequenceClassification, DistilBertTokenizer,\n",
    "                          Trainer, TrainingArguments, PreTrainedModel)\n"
   ]
  },
  {
   "cell_type": "code",
   "execution_count": 2,
   "metadata": {},
   "outputs": [
    {
     "data": {
      "application/vnd.jupyter.widget-view+json": {
       "model_id": "584c6a336fbb45ba9b215a808b940b82",
       "version_major": 2,
       "version_minor": 0
      },
      "text/plain": [
       "tokenizer_config.json:   0%|          | 0.00/48.0 [00:00<?, ?B/s]"
      ]
     },
     "metadata": {},
     "output_type": "display_data"
    },
    {
     "data": {
      "application/vnd.jupyter.widget-view+json": {
       "model_id": "f28185161e974d728b3d67b00ae02c73",
       "version_major": 2,
       "version_minor": 0
      },
      "text/plain": [
       "vocab.txt:   0%|          | 0.00/232k [00:00<?, ?B/s]"
      ]
     },
     "metadata": {},
     "output_type": "display_data"
    },
    {
     "data": {
      "application/vnd.jupyter.widget-view+json": {
       "model_id": "0d13b6fde30745e2b6ffc306a9deefe8",
       "version_major": 2,
       "version_minor": 0
      },
      "text/plain": [
       "tokenizer.json:   0%|          | 0.00/466k [00:00<?, ?B/s]"
      ]
     },
     "metadata": {},
     "output_type": "display_data"
    },
    {
     "data": {
      "application/vnd.jupyter.widget-view+json": {
       "model_id": "fe9b7aa533c84d79a3398cdb5537c9d6",
       "version_major": 2,
       "version_minor": 0
      },
      "text/plain": [
       "config.json:   0%|          | 0.00/483 [00:00<?, ?B/s]"
      ]
     },
     "metadata": {},
     "output_type": "display_data"
    },
    {
     "name": "stderr",
     "output_type": "stream",
     "text": [
      "Using the `WANDB_DISABLED` environment variable is deprecated and will be removed in v5. Use the --report_to flag to control the integrations used for logging result (for instance --report_to none).\n"
     ]
    },
    {
     "data": {
      "application/vnd.jupyter.widget-view+json": {
       "model_id": "50a9d23dcaa1488592928cedf9d73751",
       "version_major": 2,
       "version_minor": 0
      },
      "text/plain": [
       "model.safetensors:   0%|          | 0.00/268M [00:00<?, ?B/s]"
      ]
     },
     "metadata": {},
     "output_type": "display_data"
    },
    {
     "name": "stderr",
     "output_type": "stream",
     "text": [
      "Some weights of DistilBertForSequenceClassification were not initialized from the model checkpoint at distilbert-base-uncased and are newly initialized: ['classifier.weight', 'pre_classifier.bias', 'classifier.bias', 'pre_classifier.weight']\n",
      "You should probably TRAIN this model on a down-stream task to be able to use it for predictions and inference.\n"
     ]
    },
    {
     "name": "stdout",
     "output_type": "stream",
     "text": [
      "Running Fold 1\n"
     ]
    },
    {
     "data": {
      "text/html": [
       "\n",
       "    <div>\n",
       "      \n",
       "      <progress value='12775' max='12775' style='width:300px; height:20px; vertical-align: middle;'></progress>\n",
       "      [12775/12775 37:47, Epoch 5/5]\n",
       "    </div>\n",
       "    <table border=\"1\" class=\"dataframe\">\n",
       "  <thead>\n",
       " <tr style=\"text-align: left;\">\n",
       "      <th>Epoch</th>\n",
       "      <th>Training Loss</th>\n",
       "      <th>Validation Loss</th>\n",
       "    </tr>\n",
       "  </thead>\n",
       "  <tbody>\n",
       "    <tr>\n",
       "      <td>1</td>\n",
       "      <td>0.692200</td>\n",
       "      <td>0.552729</td>\n",
       "    </tr>\n",
       "    <tr>\n",
       "      <td>2</td>\n",
       "      <td>0.544500</td>\n",
       "      <td>0.465608</td>\n",
       "    </tr>\n",
       "    <tr>\n",
       "      <td>3</td>\n",
       "      <td>0.461500</td>\n",
       "      <td>0.408421</td>\n",
       "    </tr>\n",
       "    <tr>\n",
       "      <td>4</td>\n",
       "      <td>0.344000</td>\n",
       "      <td>0.378414</td>\n",
       "    </tr>\n",
       "    <tr>\n",
       "      <td>5</td>\n",
       "      <td>0.417900</td>\n",
       "      <td>0.366575</td>\n",
       "    </tr>\n",
       "  </tbody>\n",
       "</table><p>"
      ],
      "text/plain": [
       "<IPython.core.display.HTML object>"
      ]
     },
     "metadata": {},
     "output_type": "display_data"
    },
    {
     "data": {
      "text/html": [],
      "text/plain": [
       "<IPython.core.display.HTML object>"
      ]
     },
     "metadata": {},
     "output_type": "display_data"
    },
    {
     "name": "stdout",
     "output_type": "stream",
     "text": [
      "Running Fold 2\n"
     ]
    },
    {
     "data": {
      "text/html": [
       "\n",
       "    <div>\n",
       "      \n",
       "      <progress value='12775' max='12775' style='width:300px; height:20px; vertical-align: middle;'></progress>\n",
       "      [12775/12775 37:46, Epoch 5/5]\n",
       "    </div>\n",
       "    <table border=\"1\" class=\"dataframe\">\n",
       "  <thead>\n",
       " <tr style=\"text-align: left;\">\n",
       "      <th>Epoch</th>\n",
       "      <th>Training Loss</th>\n",
       "      <th>Validation Loss</th>\n",
       "    </tr>\n",
       "  </thead>\n",
       "  <tbody>\n",
       "    <tr>\n",
       "      <td>1</td>\n",
       "      <td>0.439200</td>\n",
       "      <td>0.284712</td>\n",
       "    </tr>\n",
       "    <tr>\n",
       "      <td>2</td>\n",
       "      <td>0.358100</td>\n",
       "      <td>0.243042</td>\n",
       "    </tr>\n",
       "    <tr>\n",
       "      <td>3</td>\n",
       "      <td>0.292200</td>\n",
       "      <td>0.212063</td>\n",
       "    </tr>\n",
       "    <tr>\n",
       "      <td>4</td>\n",
       "      <td>0.341200</td>\n",
       "      <td>0.200655</td>\n",
       "    </tr>\n",
       "    <tr>\n",
       "      <td>5</td>\n",
       "      <td>0.226900</td>\n",
       "      <td>0.195839</td>\n",
       "    </tr>\n",
       "  </tbody>\n",
       "</table><p>"
      ],
      "text/plain": [
       "<IPython.core.display.HTML object>"
      ]
     },
     "metadata": {},
     "output_type": "display_data"
    },
    {
     "data": {
      "text/html": [],
      "text/plain": [
       "<IPython.core.display.HTML object>"
      ]
     },
     "metadata": {},
     "output_type": "display_data"
    },
    {
     "name": "stdout",
     "output_type": "stream",
     "text": [
      "Running Fold 3\n"
     ]
    },
    {
     "data": {
      "text/html": [
       "\n",
       "    <div>\n",
       "      \n",
       "      <progress value='12775' max='12775' style='width:300px; height:20px; vertical-align: middle;'></progress>\n",
       "      [12775/12775 37:49, Epoch 5/5]\n",
       "    </div>\n",
       "    <table border=\"1\" class=\"dataframe\">\n",
       "  <thead>\n",
       " <tr style=\"text-align: left;\">\n",
       "      <th>Epoch</th>\n",
       "      <th>Training Loss</th>\n",
       "      <th>Validation Loss</th>\n",
       "    </tr>\n",
       "  </thead>\n",
       "  <tbody>\n",
       "    <tr>\n",
       "      <td>1</td>\n",
       "      <td>0.295100</td>\n",
       "      <td>0.144241</td>\n",
       "    </tr>\n",
       "    <tr>\n",
       "      <td>2</td>\n",
       "      <td>0.211700</td>\n",
       "      <td>0.125351</td>\n",
       "    </tr>\n",
       "    <tr>\n",
       "      <td>3</td>\n",
       "      <td>0.143700</td>\n",
       "      <td>0.122515</td>\n",
       "    </tr>\n",
       "    <tr>\n",
       "      <td>4</td>\n",
       "      <td>0.173700</td>\n",
       "      <td>0.113802</td>\n",
       "    </tr>\n",
       "    <tr>\n",
       "      <td>5</td>\n",
       "      <td>0.256500</td>\n",
       "      <td>0.110276</td>\n",
       "    </tr>\n",
       "  </tbody>\n",
       "</table><p>"
      ],
      "text/plain": [
       "<IPython.core.display.HTML object>"
      ]
     },
     "metadata": {},
     "output_type": "display_data"
    },
    {
     "data": {
      "text/html": [],
      "text/plain": [
       "<IPython.core.display.HTML object>"
      ]
     },
     "metadata": {},
     "output_type": "display_data"
    },
    {
     "name": "stdout",
     "output_type": "stream",
     "text": [
      "Avg Accuracy: 0.9185\n",
      "Avg Precision: 0.9190\n",
      "Avg Recall: 0.9185\n",
      "Avg F1: 0.9185\n"
     ]
    },
    {
     "data": {
      "image/png": "[encoded data removed]",
      "text/plain": [
       "<Figure size 1000x600 with 1 Axes>"
      ]
     },
     "metadata": {},
     "output_type": "display_data"
    },
    {
     "data": {
      "text/html": [],
      "text/plain": [
       "<IPython.core.display.HTML object>"
      ]
     },
     "metadata": {},
     "output_type": "display_data"
    },
    {
     "data": {
      "image/png": "[encoded data removed]",
      "text/plain": [
       "<Figure size 640x480 with 2 Axes>"
      ]
     },
     "metadata": {},
     "output_type": "display_data"
    },
    {
     "name": "stdout",
     "output_type": "stream",
     "text": [
      "Model and tokenizer saved to ./saved_model\n"
     ]
    }
   ],
   "source": [
    "# Constants\n",
    "FILE_PATH = '/notebooks/Datafiniti_Amazon_Consumer_Reviews_of_Amazon_Products_May19.csv'\n",
    "COLUMNS_TO_KEEP = ['name', 'brand', 'primaryCategories', 'reviews.text', 'reviews.rating']\n",
    "RANDOM_STATE = 42\n",
    "MAX_LENGTH = 512\n",
    "NUM_LABELS = 3\n",
    "NUM_FOLDS = 3\n",
    "\n",
    "os.environ[\"WANDB_DISABLED\"] = \"true\"  # Disable WandB\n",
    "\n",
    "# Data Loading and Preprocessing\n",
    "def load_and_preprocess_data(file_path: str, columns: List[str]) -> pd.DataFrame:\n",
    "    df = pd.read_csv(file_path)\n",
    "    return df[columns]\n",
    "\n",
    "def balance_dataset(df: pd.DataFrame) -> pd.DataFrame:\n",
    "    positive_reviews = df[df['reviews.rating'] >= 4]\n",
    "    neutral_reviews = df[df['reviews.rating'] == 3]\n",
    "    negative_reviews = df[df['reviews.rating'] <= 2]\n",
    "\n",
    "    max_class_size = max(len(positive_reviews), len(neutral_reviews), len(negative_reviews))\n",
    "    \n",
    "    positive_upsampled = utils.resample(positive_reviews, replace=True, n_samples=max_class_size, random_state=RANDOM_STATE)\n",
    "    neutral_upsampled = utils.resample(neutral_reviews, replace=True, n_samples=max_class_size, random_state=RANDOM_STATE)\n",
    "    negative_upsampled = utils.resample(negative_reviews, replace=True, n_samples=max_class_size, random_state=RANDOM_STATE)\n",
    "\n",
    "    df_balanced = pd.concat([positive_upsampled, neutral_upsampled, negative_upsampled]).sample(frac=1, random_state=RANDOM_STATE)\n",
    "    df_balanced['labels'] = df_balanced['reviews.rating'].map(lambda rating: 0 if rating <= 2 else (1 if rating == 3 else 2))\n",
    "    \n",
    "    return df_balanced\n",
    "\n",
    "def prepare_datasets(df: pd.DataFrame) -> Tuple[pd.Series, pd.Series, pd.Series, pd.Series]:\n",
    "    return model_selection.train_test_split(\n",
    "        df['reviews.text'], df['labels'], test_size=0.2, random_state=RANDOM_STATE\n",
    "    )\n",
    "\n",
    "def tokenize_data(tokenizer, texts, max_length=MAX_LENGTH):\n",
    "    return tokenizer(\n",
    "        texts.tolist(),\n",
    "        truncation=True,\n",
    "        padding='max_length',\n",
    "        max_length=max_length,\n",
    "        return_tensors='pt'\n",
    "    )\n",
    "\n",
    "def create_hf_dataset(encodings, labels):\n",
    "    return Dataset.from_dict({\n",
    "        'input_ids': encodings['input_ids'].tolist(),\n",
    "        'attention_mask': encodings['attention_mask'].tolist(),\n",
    "        'labels': labels.tolist()\n",
    "    })\n",
    "\n",
    "# Model Setup\n",
    "def setup_model_and_trainer(num_labels, lora_config, training_args, train_dataset):\n",
    "    model = DistilBertForSequenceClassification.from_pretrained('distilbert-base-uncased', num_labels=num_labels)\n",
    "    model = get_peft_model(model, lora_config)\n",
    "    return Trainer(model=model, args=training_args, train_dataset=train_dataset)\n",
    "\n",
    "def run_cross_validation(trainer, X_train, y_train, tokenizer, n_splits=NUM_FOLDS):\n",
    "    kf = model_selection.KFold(n_splits=n_splits)\n",
    "    fold_metrics = []\n",
    "\n",
    "    for fold, (train_idx, val_idx) in enumerate(kf.split(X_train)):\n",
    "        print(f\"Running Fold {fold + 1}\")\n",
    "\n",
    "        X_fold_train, X_fold_val = X_train.iloc[train_idx], X_train.iloc[val_idx]\n",
    "        y_fold_train, y_fold_val = y_train.iloc[train_idx], y_train.iloc[val_idx]\n",
    "\n",
    "        fold_train_encodings = tokenize_data(tokenizer, X_fold_train)\n",
    "        fold_val_encodings = tokenize_data(tokenizer, X_fold_val)\n",
    "\n",
    "        fold_train_dataset = create_hf_dataset(fold_train_encodings, y_fold_train)\n",
    "        fold_val_dataset = create_hf_dataset(fold_val_encodings, y_fold_val)\n",
    "\n",
    "        trainer.train_dataset = fold_train_dataset\n",
    "        trainer.eval_dataset = fold_val_dataset\n",
    "\n",
    "        trainer.train()\n",
    "        predictions = trainer.predict(fold_val_dataset)\n",
    "        preds = np.argmax(predictions.predictions, axis=1)\n",
    "\n",
    "        fold_metrics.append({\n",
    "            'fold': fold + 1,\n",
    "            'accuracy': metrics.accuracy_score(y_fold_val, preds),\n",
    "            'precision': metrics.precision_score(y_fold_val, preds, average='weighted'),\n",
    "            'recall': metrics.recall_score(y_fold_val, preds, average='weighted'),\n",
    "            'f1': metrics.f1_score(y_fold_val, preds, average='weighted')\n",
    "        })\n",
    "\n",
    "    return fold_metrics\n",
    "\n",
    "def save_model(trainer, tokenizer, output_dir):\n",
    "    \"\"\"\n",
    "    Save the fine-tuned model and tokenizer.\n",
    "    Args:\n",
    "    trainer (Trainer): The Hugging Face Trainer object.\n",
    "    tokenizer (PreTrainedTokenizer): The tokenizer used for the model.\n",
    "    output_dir (str): The directory to save the model and tokenizer.\n",
    "    \"\"\"\n",
    "    # Create the output directory if it doesn't exist\n",
    "    os.makedirs(output_dir, exist_ok=True)\n",
    "\n",
    "    # Get the model from the trainer\n",
    "    model = trainer.model\n",
    "\n",
    "    # If it's a PeftModel, we need to save it differently\n",
    "    if isinstance(model, PeftModel):\n",
    "        # Save the adapter weights\n",
    "        model.save_pretrained(output_dir)\n",
    "        \n",
    "        # Save the base model\n",
    "        base_model = model.get_base_model()\n",
    "        base_model.save_pretrained(os.path.join(output_dir, \"base_model\"))\n",
    "    else:\n",
    "        # For a regular model, just save it directly\n",
    "        model.save_pretrained(output_dir)\n",
    "\n",
    "    # Save the tokenizer\n",
    "    tokenizer.save_pretrained(output_dir)\n",
    "\n",
    "    print(f\"Model and tokenizer saved to {output_dir}\")\n",
    "\n",
    "def main():\n",
    "    df = load_and_preprocess_data(FILE_PATH, COLUMNS_TO_KEEP)\n",
    "    df_balanced = balance_dataset(df)\n",
    "    X_train, X_test, y_train, y_test = prepare_datasets(df_balanced)\n",
    "\n",
    "    tokenizer = DistilBertTokenizer.from_pretrained('distilbert-base-uncased')\n",
    "    train_encodings = tokenize_data(tokenizer, X_train)\n",
    "    train_dataset = create_hf_dataset(train_encodings, y_train)\n",
    "\n",
    "    lora_config = LoraConfig(\n",
    "        task_type=TaskType.SEQ_CLS,\n",
    "        r=8,\n",
    "        lora_alpha=32,\n",
    "        lora_dropout=0.1,\n",
    "        target_modules=[\"q_lin\", \"v_lin\"]\n",
    "    )\n",
    "\n",
    "    training_args = TrainingArguments(\n",
    "        output_dir='./results',\n",
    "        learning_rate=2e-5,\n",
    "        per_device_train_batch_size=16,\n",
    "        per_device_eval_batch_size=16,\n",
    "        num_train_epochs=5,\n",
    "        weight_decay=0.01,\n",
    "        evaluation_strategy=\"epoch\",\n",
    "        logging_dir='./logs',\n",
    "        logging_steps=10,\n",
    "        save_total_limit=1,\n",
    "        no_cuda=False\n",
    "    )\n",
    "\n",
    "    trainer = setup_model_and_trainer(NUM_LABELS, lora_config, training_args, train_dataset)\n",
    "    fold_metrics = run_cross_validation(trainer, X_train, y_train, tokenizer)\n",
    "\n",
    "    avg_metrics = {metric: np.mean([f[metric] for f in fold_metrics]) \n",
    "                   for metric in ['accuracy', 'precision', 'recall', 'f1']}\n",
    "    \n",
    "    for metric, value in avg_metrics.items():\n",
    "        print(f\"Avg {metric.capitalize()}: {value:.4f}\")\n",
    "    \n",
    "\n",
    "    metrics_df = pd.DataFrame(fold_metrics)\n",
    "    metrics_df = metrics_df.set_index('fold')\n",
    "    metrics_df.plot(kind='bar', figsize=(10, 6))\n",
    "    plt.title('Cross-Validation Metrics')\n",
    "    plt.ylabel('Score')\n",
    "    plt.xlabel('Fold')\n",
    "    plt.legend(loc='lower right')\n",
    "    plt.show()\n",
    "\n",
    "\n",
    "    y_pred = trainer.predict(create_hf_dataset(tokenize_data(tokenizer, X_test), y_test)).predictions.argmax(axis=1)\n",
    "    cm = metrics.confusion_matrix(y_test, y_pred)\n",
    "    sns.heatmap(cm, annot=True, fmt='d', cmap='Blues')\n",
    "    plt.title('Confusion Matrix')\n",
    "    plt.xlabel('Predicted Label')\n",
    "    plt.ylabel('True Label')\n",
    "    plt.show()\n",
    "\n",
    "    save_model(trainer, tokenizer, \"./saved_model\")\n",
    "\n",
    "if __name__ == \"__main__\":\n",
    "    main()\n"
   ]
  },
  {
   "cell_type": "markdown",
   "metadata": {},
   "source": [
    "Make predictions with Testing Set"
   ]
  },
  {
   "cell_type": "code",
   "execution_count": 6,
   "metadata": {},
   "outputs": [
    {
     "name": "stderr",
     "output_type": "stream",
     "text": [
      "UsageError: Unknown variable 'tokenizer'\n"
     ]
    }
   ],
   "source": [
    "%store tokenizer"
   ]
  },
  {
   "cell_type": "code",
   "execution_count": 29,
   "metadata": {},
   "outputs": [
    {
     "name": "stderr",
     "output_type": "stream",
     "text": [
      "Some weights of the model checkpoint at ./saved_model/base_model were not used when initializing DistilBertForSequenceClassification: ['distilbert.transformer.layer.3.attention.v_lin.lora_A.default.weight', 'distilbert.transformer.layer.4.attention.v_lin.lora_A.default.weight', 'distilbert.transformer.layer.1.attention.q_lin.lora_A.default.weight', 'distilbert.transformer.layer.4.attention.q_lin.lora_A.default.weight', 'distilbert.transformer.layer.0.attention.v_lin.lora_A.default.weight', 'distilbert.transformer.layer.4.attention.v_lin.lora_B.default.weight', 'distilbert.transformer.layer.5.attention.v_lin.lora_B.default.weight', 'distilbert.transformer.layer.5.attention.v_lin.lora_A.default.weight', 'classifier.original_module.bias', 'pre_classifier.modules_to_save.default.bias', 'distilbert.transformer.layer.3.attention.q_lin.lora_A.default.weight', 'distilbert.transformer.layer.4.attention.q_lin.lora_B.default.weight', 'distilbert.transformer.layer.2.attention.v_lin.lora_B.default.weight', 'distilbert.transformer.layer.3.attention.q_lin.lora_B.default.weight', 'distilbert.transformer.layer.0.attention.v_lin.lora_B.default.weight', 'pre_classifier.modules_to_save.default.weight', 'distilbert.transformer.layer.5.attention.q_lin.lora_A.default.weight', 'distilbert.transformer.layer.0.attention.q_lin.lora_B.default.weight', 'pre_classifier.original_module.bias', 'distilbert.transformer.layer.3.attention.v_lin.lora_B.default.weight', 'classifier.modules_to_save.default.weight', 'distilbert.transformer.layer.5.attention.q_lin.lora_B.default.weight', 'distilbert.transformer.layer.0.attention.q_lin.lora_A.default.weight', 'distilbert.transformer.layer.1.attention.v_lin.lora_B.default.weight', 'classifier.modules_to_save.default.bias', 'distilbert.transformer.layer.1.attention.q_lin.lora_B.default.weight', 'distilbert.transformer.layer.1.attention.v_lin.lora_A.default.weight', 'distilbert.transformer.layer.2.attention.v_lin.lora_A.default.weight', 'distilbert.transformer.layer.2.attention.q_lin.lora_B.default.weight', 'pre_classifier.original_module.weight', 'distilbert.transformer.layer.2.attention.q_lin.lora_A.default.weight', 'classifier.original_module.weight']\n",
      "- This IS expected if you are initializing DistilBertForSequenceClassification from the checkpoint of a model trained on another task or with another architecture (e.g. initializing a BertForSequenceClassification model from a BertForPreTraining model).\n",
      "- This IS NOT expected if you are initializing DistilBertForSequenceClassification from the checkpoint of a model that you expect to be exactly identical (initializing a BertForSequenceClassification model from a BertForSequenceClassification model).\n",
      "Some weights of DistilBertForSequenceClassification were not initialized from the model checkpoint at ./saved_model/base_model and are newly initialized: ['classifier.weight', 'pre_classifier.bias', 'classifier.bias', 'pre_classifier.weight']\n",
      "You should probably TRAIN this model on a down-stream task to be able to use it for predictions and inference.\n",
      "/tmp/ipykernel_44/1545328914.py:20: DtypeWarning: Columns (1,10) have mixed types. Specify dtype option on import or set low_memory=False.\n",
      "  df = pd.read_csv(file_path)\n",
      "Using the `WANDB_DISABLED` environment variable is deprecated and will be removed in v5. Use the --report_to flag to control the integrations used for logging result (for instance --report_to none).\n"
     ]
    },
    {
     "data": {
      "text/html": [],
      "text/plain": [
       "<IPython.core.display.HTML object>"
      ]
     },
     "metadata": {},
     "output_type": "display_data"
    },
    {
     "name": "stdout",
     "output_type": "stream",
     "text": [
      "Number of true labels: 34660\n",
      "Number of predicted labels: 34659\n"
     ]
    },
    {
     "name": "stderr",
     "output_type": "stream",
     "text": [
      "/tmp/ipykernel_44/1545328914.py:100: DtypeWarning: Columns (1,10) have mixed types. Specify dtype option on import or set low_memory=False.\n",
      "  test_data = pd.read_csv(TEST_FILE_PATH)\n"
     ]
    },
    {
     "data": {
      "image/png": "[encoded data removed]",
      "text/plain": [
       "<Figure size 640x480 with 2 Axes>"
      ]
     },
     "metadata": {},
     "output_type": "display_data"
    }
   ],
   "source": [
    "from transformers import DistilBertConfig\n",
    "\n",
    "\n",
    "# Constants\n",
    "TEST_FILE_PATH = './1429_1.csv'  # Path to the new test file\n",
    "MODEL_DIR = './saved_model'  # Path to the saved model\n",
    "MAX_LENGTH = 512\n",
    "\n",
    "# Step 1: Load the testing data\n",
    "def load_test_data(file_path: str, text_column: str) -> pd.Series:\n",
    "    \"\"\"\n",
    "    Load the test data from a CSV file.\n",
    "    Args:\n",
    "    - file_path: Path to the CSV file.\n",
    "    - text_column: Name of the column containing the text data.\n",
    "    \n",
    "    Returns:\n",
    "    - A pandas Series containing the text data.\n",
    "    \"\"\"\n",
    "    df = pd.read_csv(file_path)\n",
    "    return df[text_column]\n",
    "\n",
    "# Step 2: Tokenize the test data\n",
    "def tokenize_test_data(tokenizer, texts, max_length=MAX_LENGTH):\n",
    "    return tokenizer(\n",
    "        texts.tolist(),\n",
    "        truncation=True,\n",
    "        padding='max_length',\n",
    "        max_length=max_length,\n",
    "        return_tensors='pt'\n",
    "    )\n",
    "\n",
    "# Step 3: Create a Hugging Face Dataset for testing\n",
    "def create_hf_dataset(encodings):\n",
    "    return Dataset.from_dict({\n",
    "        'input_ids': encodings['input_ids'].tolist(),\n",
    "        'attention_mask': encodings['attention_mask'].tolist()\n",
    "    })\n",
    "\n",
    "def load_model_and_tokenizer(model_dir: str):\n",
    "    # Load the base DistilBERT model\n",
    "    base_model = DistilBertForSequenceClassification.from_pretrained(os.path.join(model_dir, \"base_model\"), num_labels=3)\n",
    "\n",
    "    # Load the LoRA/PEFT adapter on top of the base model\n",
    "    model = PeftModel.from_pretrained(base_model, model_dir)\n",
    "\n",
    "    # Load the tokenizer\n",
    "    tokenizer = DistilBertTokenizer.from_pretrained(model_dir)\n",
    "\n",
    "    return model, tokenizer\n",
    "\n",
    "# Step 5: Run predictions on the test dataset\n",
    "def run_predictions(model, tokenizer, test_texts):\n",
    "    # Ensure data is clean\n",
    "    test_texts = test_texts.dropna()  # Remove NaN values\n",
    "    test_texts = test_texts.apply(str)  # Ensure all are strings\n",
    "\n",
    "    # Tokenize test data\n",
    "    test_encodings = tokenize_test_data(tokenizer, test_texts)\n",
    "    test_dataset = create_hf_dataset(test_encodings)\n",
    "\n",
    "    # Load trainer with the fine-tuned model\n",
    "    trainer = Trainer(model=model)\n",
    "\n",
    "    # Run predictions\n",
    "    predictions = trainer.predict(test_dataset)\n",
    "    preds = predictions.predictions.argmax(axis=1)\n",
    "    return preds\n",
    "\n",
    "# Step 6: Display Confusion Matrix\n",
    "def plot_confusion_matrix(true_labels, pred_labels):\n",
    "    cm = metrics.confusion_matrix(true_labels, pred_labels)\n",
    "    sns.heatmap(cm, annot=True, fmt='d', cmap='Blues')\n",
    "    plt.title('Confusion Matrix')\n",
    "    plt.xlabel('Predicted Label')\n",
    "    plt.ylabel('True Label')\n",
    "    plt.show()\n",
    "\n",
    "def plot_bar_plot(pred_labels):\n",
    "    # Plot a bar plot showing the distribution of predicted labels\n",
    "    plt.figure(figsize=(8, 6))\n",
    "    sns.countplot(pred_labels, palette=\"viridis\")\n",
    "    plt.title('Predicted Label Distribution')\n",
    "    plt.xlabel('Labels')\n",
    "    plt.ylabel('Frequency')\n",
    "    plt.show()\n",
    "\n",
    "# Main function to test the model\n",
    "def main():\n",
    "    # Load the saved model and tokenizer\n",
    "    model, tokenizer = load_model_and_tokenizer(MODEL_DIR)\n",
    "\n",
    "    # Load the test data (assuming the column name for text is 'reviews.text')\n",
    "    test_texts = load_test_data(TEST_FILE_PATH, text_column='reviews.text')\n",
    "\n",
    "    # Run predictions\n",
    "    y_pred = run_predictions(model, tokenizer, test_texts)\n",
    "\n",
    "    # If you have true labels in the test dataset, load them as well\n",
    "    test_data = pd.read_csv(TEST_FILE_PATH)\n",
    "    if 'reviews.rating' in test_data.columns:\n",
    "        y_true = test_data['reviews.rating'].map(lambda rating: 0 if rating <= 2 else (1 if rating == 3 else 2))\n",
    "\n",
    "        # Debugging: Print lengths\n",
    "        print(f\"Number of true labels: {len(y_true)}\")\n",
    "        print(f\"Number of predicted labels: {len(y_pred)}\")\n",
    "\n",
    "        # Truncate the longer one if there's a mismatch\n",
    "        min_len = min(len(y_true), len(y_pred))\n",
    "        y_true = y_true[:min_len]\n",
    "        y_pred = y_pred[:min_len]\n",
    "\n",
    "        # Plot confusion matrix\n",
    "        plot_confusion_matrix(y_true, y_pred)\n",
    "    else:\n",
    "        print(\"No true labels found in the test dataset. Predictions are:\")\n",
    "        print(y_pred)\n",
    "\n",
    "if __name__ == \"__main__\":\n",
    "    main()\n"
   ]
  },
  {
   "cell_type": "code",
   "execution_count": 24,
   "metadata": {},
   "outputs": [
    {
     "name": "stdout",
     "output_type": "stream",
     "text": [
      "0        This product so far has not disappointed. My c...\n",
      "1        great for beginner or experienced person. Boug...\n",
      "2        Inexpensive tablet for him to use and learn on...\n",
      "3        I've had my Fire HD 8 two weeks now and I love...\n",
      "4        I bought this for my grand daughter when she c...\n",
      "                               ...                        \n",
      "34655    This is not appreciably faster than any other ...\n",
      "34656    Amazon should include this charger with the Ki...\n",
      "34657    Love my Kindle Fire but I am really disappoint...\n",
      "34658    I was surprised to find it did not come with a...\n",
      "34659    to spite the fact that i have nothing but good...\n",
      "Name: reviews.text, Length: 34660, dtype: object\n",
      "<class 'list'>\n"
     ]
    },
    {
     "name": "stderr",
     "output_type": "stream",
     "text": [
      "/tmp/ipykernel_44/2784514716.py:20: DtypeWarning: Columns (1,10) have mixed types. Specify dtype option on import or set low_memory=False.\n",
      "  df = pd.read_csv(file_path)\n"
     ]
    }
   ],
   "source": [
    "test_texts = load_test_data(TEST_FILE_PATH, text_column='reviews.text')\n",
    "print(test_texts)  # Check if all entries are valid strings\n",
    "print(type(test_texts.tolist()))  # Check if it's a pandas Series"
   ]
  }
 ],
 "metadata": {
  "kernelspec": {
   "display_name": "Python 3 (ipykernel)",
   "language": "python",
   "name": "python3"
  },
  "language_info": {
   "codemirror_mode": {
    "name": "ipython",
    "version": 3
   },
   "file_extension": ".py",
   "mimetype": "text/x-python",
   "name": "python",
   "nbconvert_exporter": "python",
   "pygments_lexer": "ipython3",
   "version": "3.11.7"
  }
 },
 "nbformat": 4,
 "nbformat_minor": 2
}
