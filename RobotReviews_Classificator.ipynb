{
 "cells": [
  {
   "cell_type": "markdown",
   "metadata": {},
   "source": [
    "# Robot Reviews\n",
    "Sentiment Classification Model"
   ]
  },
  {
   "cell_type": "code",
   "execution_count": 1,
   "metadata": {},
   "outputs": [
    {
     "name": "stderr",
     "output_type": "stream",
     "text": [
      "2024-10-17 18:43:14.270589: E external/local_xla/xla/stream_executor/cuda/cuda_dnn.cc:9261] Unable to register cuDNN factory: Attempting to register factory for plugin cuDNN when one has already been registered\n",
      "2024-10-17 18:43:14.270645: E external/local_xla/xla/stream_executor/cuda/cuda_fft.cc:607] Unable to register cuFFT factory: Attempting to register factory for plugin cuFFT when one has already been registered\n",
      "2024-10-17 18:43:14.271672: E external/local_xla/xla/stream_executor/cuda/cuda_blas.cc:1515] Unable to register cuBLAS factory: Attempting to register factory for plugin cuBLAS when one has already been registered\n",
      "2024-10-17 18:43:14.277477: I tensorflow/core/platform/cpu_feature_guard.cc:182] This TensorFlow binary is optimized to use available CPU instructions in performance-critical operations.\n",
      "To enable the following instructions: AVX2 FMA, in other operations, rebuild TensorFlow with the appropriate compiler flags.\n",
      "2024-10-17 18:43:15.034568: W tensorflow/compiler/tf2tensorrt/utils/py_utils.cc:38] TF-TRT Warning: Could not find TensorRT\n"
     ]
    }
   ],
   "source": [
    "import os\n",
    "from typing import List, Tuple\n",
    "\n",
    "import numpy as np\n",
    "import pandas as pd\n",
    "import matplotlib.pyplot as plt\n",
    "import seaborn as sns\n",
    "from datasets import Dataset\n",
    "from peft import LoraConfig, TaskType, get_peft_model\n",
    "from sklearn import metrics, model_selection, utils\n",
    "from transformers import (DistilBertForSequenceClassification, DistilBertTokenizer,\n",
    "                          Trainer, TrainingArguments)\n"
   ]
  },
  {
   "cell_type": "code",
   "execution_count": 2,
   "metadata": {},
   "outputs": [
    {
     "name": "stderr",
     "output_type": "stream",
     "text": [
      "Using the `WANDB_DISABLED` environment variable is deprecated and will be removed in v5. Use the --report_to flag to control the integrations used for logging result (for instance --report_to none).\n",
      "Some weights of DistilBertForSequenceClassification were not initialized from the model checkpoint at distilbert-base-uncased and are newly initialized: ['classifier.weight', 'pre_classifier.weight', 'pre_classifier.bias', 'classifier.bias']\n",
      "You should probably TRAIN this model on a down-stream task to be able to use it for predictions and inference.\n"
     ]
    },
    {
     "name": "stdout",
     "output_type": "stream",
     "text": [
      "Running Fold 1\n"
     ]
    },
    {
     "data": {
      "text/html": [
       "\n",
       "    <div>\n",
       "      \n",
       "      <progress value='12775' max='12775' style='width:300px; height:20px; vertical-align: middle;'></progress>\n",
       "      [12775/12775 36:37, Epoch 5/5]\n",
       "    </div>\n",
       "    <table border=\"1\" class=\"dataframe\">\n",
       "  <thead>\n",
       " <tr style=\"text-align: left;\">\n",
       "      <th>Epoch</th>\n",
       "      <th>Training Loss</th>\n",
       "      <th>Validation Loss</th>\n",
       "    </tr>\n",
       "  </thead>\n",
       "  <tbody>\n",
       "    <tr>\n",
       "      <td>1</td>\n",
       "      <td>0.684500</td>\n",
       "      <td>0.554081</td>\n",
       "    </tr>\n",
       "    <tr>\n",
       "      <td>2</td>\n",
       "      <td>0.531200</td>\n",
       "      <td>0.465921</td>\n",
       "    </tr>\n",
       "    <tr>\n",
       "      <td>3</td>\n",
       "      <td>0.494000</td>\n",
       "      <td>0.411127</td>\n",
       "    </tr>\n",
       "    <tr>\n",
       "      <td>4</td>\n",
       "      <td>0.320100</td>\n",
       "      <td>0.379603</td>\n",
       "    </tr>\n",
       "    <tr>\n",
       "      <td>5</td>\n",
       "      <td>0.406300</td>\n",
       "      <td>0.367892</td>\n",
       "    </tr>\n",
       "  </tbody>\n",
       "</table><p>"
      ],
      "text/plain": [
       "<IPython.core.display.HTML object>"
      ]
     },
     "metadata": {},
     "output_type": "display_data"
    },
    {
     "data": {
      "text/html": [],
      "text/plain": [
       "<IPython.core.display.HTML object>"
      ]
     },
     "metadata": {},
     "output_type": "display_data"
    },
    {
     "name": "stdout",
     "output_type": "stream",
     "text": [
      "Running Fold 2\n"
     ]
    },
    {
     "data": {
      "text/html": [
       "\n",
       "    <div>\n",
       "      \n",
       "      <progress value='12775' max='12775' style='width:300px; height:20px; vertical-align: middle;'></progress>\n",
       "      [12775/12775 36:41, Epoch 5/5]\n",
       "    </div>\n",
       "    <table border=\"1\" class=\"dataframe\">\n",
       "  <thead>\n",
       " <tr style=\"text-align: left;\">\n",
       "      <th>Epoch</th>\n",
       "      <th>Training Loss</th>\n",
       "      <th>Validation Loss</th>\n",
       "    </tr>\n",
       "  </thead>\n",
       "  <tbody>\n",
       "    <tr>\n",
       "      <td>1</td>\n",
       "      <td>0.440200</td>\n",
       "      <td>0.283657</td>\n",
       "    </tr>\n",
       "    <tr>\n",
       "      <td>2</td>\n",
       "      <td>0.319600</td>\n",
       "      <td>0.236399</td>\n",
       "    </tr>\n",
       "    <tr>\n",
       "      <td>3</td>\n",
       "      <td>0.274800</td>\n",
       "      <td>0.205519</td>\n",
       "    </tr>\n",
       "    <tr>\n",
       "      <td>4</td>\n",
       "      <td>0.320700</td>\n",
       "      <td>0.192756</td>\n",
       "    </tr>\n",
       "    <tr>\n",
       "      <td>5</td>\n",
       "      <td>0.208700</td>\n",
       "      <td>0.189059</td>\n",
       "    </tr>\n",
       "  </tbody>\n",
       "</table><p>"
      ],
      "text/plain": [
       "<IPython.core.display.HTML object>"
      ]
     },
     "metadata": {},
     "output_type": "display_data"
    },
    {
     "data": {
      "text/html": [],
      "text/plain": [
       "<IPython.core.display.HTML object>"
      ]
     },
     "metadata": {},
     "output_type": "display_data"
    },
    {
     "name": "stdout",
     "output_type": "stream",
     "text": [
      "Running Fold 3\n"
     ]
    },
    {
     "data": {
      "text/html": [
       "\n",
       "    <div>\n",
       "      \n",
       "      <progress value='12775' max='12775' style='width:300px; height:20px; vertical-align: middle;'></progress>\n",
       "      [12775/12775 36:40, Epoch 5/5]\n",
       "    </div>\n",
       "    <table border=\"1\" class=\"dataframe\">\n",
       "  <thead>\n",
       " <tr style=\"text-align: left;\">\n",
       "      <th>Epoch</th>\n",
       "      <th>Training Loss</th>\n",
       "      <th>Validation Loss</th>\n",
       "    </tr>\n",
       "  </thead>\n",
       "  <tbody>\n",
       "    <tr>\n",
       "      <td>1</td>\n",
       "      <td>0.299100</td>\n",
       "      <td>0.143417</td>\n",
       "    </tr>\n",
       "    <tr>\n",
       "      <td>2</td>\n",
       "      <td>0.185000</td>\n",
       "      <td>0.124396</td>\n",
       "    </tr>\n",
       "    <tr>\n",
       "      <td>3</td>\n",
       "      <td>0.194600</td>\n",
       "      <td>0.118458</td>\n",
       "    </tr>\n",
       "    <tr>\n",
       "      <td>4</td>\n",
       "      <td>0.221200</td>\n",
       "      <td>0.110115</td>\n",
       "    </tr>\n",
       "    <tr>\n",
       "      <td>5</td>\n",
       "      <td>0.249500</td>\n",
       "      <td>0.107874</td>\n",
       "    </tr>\n",
       "  </tbody>\n",
       "</table><p>"
      ],
      "text/plain": [
       "<IPython.core.display.HTML object>"
      ]
     },
     "metadata": {},
     "output_type": "display_data"
    },
    {
     "data": {
      "text/html": [],
      "text/plain": [
       "<IPython.core.display.HTML object>"
      ]
     },
     "metadata": {},
     "output_type": "display_data"
    },
    {
     "name": "stdout",
     "output_type": "stream",
     "text": [
      "Avg Accuracy: 0.9222\n",
      "Avg Precision: 0.9229\n",
      "Avg Recall: 0.9222\n",
      "Avg F1: 0.9222\n"
     ]
    },
    {
     "data": {
      "image/png": "[encoded data removed]",
      "text/plain": [
       "<Figure size 1000x600 with 1 Axes>"
      ]
     },
     "metadata": {},
     "output_type": "display_data"
    },
    {
     "data": {
      "text/html": [],
      "text/plain": [
       "<IPython.core.display.HTML object>"
      ]
     },
     "metadata": {},
     "output_type": "display_data"
    },
    {
     "data": {
      "image/png": "[encoded data removed]",
      "text/plain": [
       "<Figure size 640x480 with 2 Axes>"
      ]
     },
     "metadata": {},
     "output_type": "display_data"
    }
   ],
   "source": [
    "# Constants\n",
    "FILE_PATH = '/notebooks/Datafiniti_Amazon_Consumer_Reviews_of_Amazon_Products_May19.csv'\n",
    "COLUMNS_TO_KEEP = ['name', 'brand', 'primaryCategories', 'reviews.text', 'reviews.rating']\n",
    "RANDOM_STATE = 42\n",
    "MAX_LENGTH = 512\n",
    "NUM_LABELS = 3\n",
    "NUM_FOLDS = 3\n",
    "\n",
    "os.environ[\"WANDB_DISABLED\"] = \"true\"  # Disable WandB\n",
    "\n",
    "# Data Loading and Preprocessing\n",
    "def load_and_preprocess_data(file_path: str, columns: List[str]) -> pd.DataFrame:\n",
    "    df = pd.read_csv(file_path)\n",
    "    return df[columns]\n",
    "\n",
    "def balance_dataset(df: pd.DataFrame) -> pd.DataFrame:\n",
    "    positive_reviews = df[df['reviews.rating'] >= 4]\n",
    "    neutral_reviews = df[df['reviews.rating'] == 3]\n",
    "    negative_reviews = df[df['reviews.rating'] <= 2]\n",
    "\n",
    "    max_class_size = max(len(positive_reviews), len(neutral_reviews), len(negative_reviews))\n",
    "    \n",
    "    positive_upsampled = utils.resample(positive_reviews, replace=True, n_samples=max_class_size, random_state=RANDOM_STATE)\n",
    "    neutral_upsampled = utils.resample(neutral_reviews, replace=True, n_samples=max_class_size, random_state=RANDOM_STATE)\n",
    "    negative_upsampled = utils.resample(negative_reviews, replace=True, n_samples=max_class_size, random_state=RANDOM_STATE)\n",
    "\n",
    "    df_balanced = pd.concat([positive_upsampled, neutral_upsampled, negative_upsampled]).sample(frac=1, random_state=RANDOM_STATE)\n",
    "    df_balanced['labels'] = df_balanced['reviews.rating'].map(lambda rating: 0 if rating <= 2 else (1 if rating == 3 else 2))\n",
    "    \n",
    "    return df_balanced\n",
    "\n",
    "def prepare_datasets(df: pd.DataFrame) -> Tuple[pd.Series, pd.Series, pd.Series, pd.Series]:\n",
    "    return model_selection.train_test_split(\n",
    "        df['reviews.text'], df['labels'], test_size=0.2, random_state=RANDOM_STATE\n",
    "    )\n",
    "\n",
    "def tokenize_data(tokenizer, texts, max_length=MAX_LENGTH):\n",
    "    return tokenizer(\n",
    "        texts.tolist(),\n",
    "        truncation=True,\n",
    "        padding='max_length',\n",
    "        max_length=max_length,\n",
    "        return_tensors='pt'\n",
    "    )\n",
    "\n",
    "def create_hf_dataset(encodings, labels):\n",
    "    return Dataset.from_dict({\n",
    "        'input_ids': encodings['input_ids'].tolist(),\n",
    "        'attention_mask': encodings['attention_mask'].tolist(),\n",
    "        'labels': labels.tolist()\n",
    "    })\n",
    "\n",
    "# Model Setup\n",
    "def setup_model_and_trainer(num_labels, lora_config, training_args, train_dataset):\n",
    "    model = DistilBertForSequenceClassification.from_pretrained('distilbert-base-uncased', num_labels=num_labels)\n",
    "    model = get_peft_model(model, lora_config)\n",
    "    return Trainer(model=model, args=training_args, train_dataset=train_dataset)\n",
    "\n",
    "def run_cross_validation(trainer, X_train, y_train, tokenizer, n_splits=NUM_FOLDS):\n",
    "    kf = model_selection.KFold(n_splits=n_splits)\n",
    "    fold_metrics = []\n",
    "\n",
    "    for fold, (train_idx, val_idx) in enumerate(kf.split(X_train)):\n",
    "        print(f\"Running Fold {fold + 1}\")\n",
    "\n",
    "        X_fold_train, X_fold_val = X_train.iloc[train_idx], X_train.iloc[val_idx]\n",
    "        y_fold_train, y_fold_val = y_train.iloc[train_idx], y_train.iloc[val_idx]\n",
    "\n",
    "        fold_train_encodings = tokenize_data(tokenizer, X_fold_train)\n",
    "        fold_val_encodings = tokenize_data(tokenizer, X_fold_val)\n",
    "\n",
    "        fold_train_dataset = create_hf_dataset(fold_train_encodings, y_fold_train)\n",
    "        fold_val_dataset = create_hf_dataset(fold_val_encodings, y_fold_val)\n",
    "\n",
    "        trainer.train_dataset = fold_train_dataset\n",
    "        trainer.eval_dataset = fold_val_dataset\n",
    "\n",
    "        trainer.train()\n",
    "        predictions = trainer.predict(fold_val_dataset)\n",
    "        preds = np.argmax(predictions.predictions, axis=1)\n",
    "\n",
    "        fold_metrics.append({\n",
    "            'fold': fold + 1,\n",
    "            'accuracy': metrics.accuracy_score(y_fold_val, preds),\n",
    "            'precision': metrics.precision_score(y_fold_val, preds, average='weighted'),\n",
    "            'recall': metrics.recall_score(y_fold_val, preds, average='weighted'),\n",
    "            'f1': metrics.f1_score(y_fold_val, preds, average='weighted')\n",
    "        })\n",
    "\n",
    "    return fold_metrics\n",
    "\n",
    "def main():\n",
    "    df = load_and_preprocess_data(FILE_PATH, COLUMNS_TO_KEEP)\n",
    "    df_balanced = balance_dataset(df)\n",
    "    X_train, X_test, y_train, y_test = prepare_datasets(df_balanced)\n",
    "\n",
    "    tokenizer = DistilBertTokenizer.from_pretrained('distilbert-base-uncased')\n",
    "    train_encodings = tokenize_data(tokenizer, X_train)\n",
    "    train_dataset = create_hf_dataset(train_encodings, y_train)\n",
    "\n",
    "    lora_config = LoraConfig(\n",
    "        task_type=TaskType.SEQ_CLS,\n",
    "        r=8,\n",
    "        lora_alpha=32,\n",
    "        lora_dropout=0.1,\n",
    "        target_modules=[\"q_lin\", \"v_lin\"]\n",
    "    )\n",
    "\n",
    "    training_args = TrainingArguments(\n",
    "        output_dir='./results',\n",
    "        learning_rate=2e-5,\n",
    "        per_device_train_batch_size=16,\n",
    "        per_device_eval_batch_size=16,\n",
    "        num_train_epochs=5,\n",
    "        weight_decay=0.01,\n",
    "        evaluation_strategy=\"epoch\",\n",
    "        logging_dir='./logs',\n",
    "        logging_steps=10,\n",
    "        save_total_limit=1,\n",
    "        no_cuda=False\n",
    "    )\n",
    "\n",
    "    trainer = setup_model_and_trainer(NUM_LABELS, lora_config, training_args, train_dataset)\n",
    "    fold_metrics = run_cross_validation(trainer, X_train, y_train, tokenizer)\n",
    "\n",
    "    avg_metrics = {metric: np.mean([f[metric] for f in fold_metrics]) \n",
    "                   for metric in ['accuracy', 'precision', 'recall', 'f1']}\n",
    "    \n",
    "    for metric, value in avg_metrics.items():\n",
    "        print(f\"Avg {metric.capitalize()}: {value:.4f}\")\n",
    "    \n",
    "        # Plot metrics\n",
    "    metrics_df = pd.DataFrame(fold_metrics)\n",
    "    metrics_df = metrics_df.set_index('fold')\n",
    "    metrics_df.plot(kind='bar', figsize=(10, 6))\n",
    "    plt.title('Cross-Validation Metrics')\n",
    "    plt.ylabel('Score')\n",
    "    plt.xlabel('Fold')\n",
    "    plt.legend(loc='lower right')\n",
    "    plt.show()\n",
    "\n",
    "    # Confusion matrix\n",
    "    y_pred = trainer.predict(create_hf_dataset(tokenize_data(tokenizer, X_test), y_test)).predictions.argmax(axis=1)\n",
    "    cm = metrics.confusion_matrix(y_test, y_pred)\n",
    "    sns.heatmap(cm, annot=True, fmt='d', cmap='Blues')\n",
    "    plt.title('Confusion Matrix')\n",
    "    plt.xlabel('Predicted Label')\n",
    "    plt.ylabel('True Label')\n",
    "    plt.show()\n",
    "\n",
    "\n",
    "\n",
    "if __name__ == \"__main__\":\n",
    "    main()\n"
   ]
  },
  {
   "cell_type": "markdown",
   "metadata": {},
   "source": [
    "Make predictions with Testing Set"
   ]
  },
  {
   "cell_type": "code",
   "execution_count": 5,
   "metadata": {},
   "outputs": [
    {
     "ename": "NameError",
     "evalue": "name 'trainer' is not defined",
     "output_type": "error",
     "traceback": [
      "\u001b[0;31m---------------------------------------------------------------------------\u001b[0m",
      "\u001b[0;31mNameError\u001b[0m                                 Traceback (most recent call last)",
      "Cell \u001b[0;32mIn[5], line 20\u001b[0m\n\u001b[1;32m     18\u001b[0m \u001b[38;5;66;03m# Make predictions on the testing dataset and calculate metrics\u001b[39;00m\n\u001b[1;32m     19\u001b[0m TEST_FILE_PATH \u001b[38;5;241m=\u001b[39m \u001b[38;5;124m'\u001b[39m\u001b[38;5;124m/notebooks/Testing Set.csv\u001b[39m\u001b[38;5;124m'\u001b[39m\n\u001b[0;32m---> 20\u001b[0m predictions \u001b[38;5;241m=\u001b[39m predict_on_new_data(TEST_FILE_PATH, COLUMNS_TO_KEEP, tokenizer, \u001b[43mtrainer\u001b[49m)\n\u001b[1;32m     21\u001b[0m \u001b[38;5;28mprint\u001b[39m(\u001b[38;5;124m\"\u001b[39m\u001b[38;5;124mPredictions made on testing dataset.\u001b[39m\u001b[38;5;124m\"\u001b[39m)\n\u001b[1;32m     23\u001b[0m df_test \u001b[38;5;241m=\u001b[39m load_and_preprocess_data(TEST_FILE_PATH, COLUMNS_TO_KEEP)\n",
      "\u001b[0;31mNameError\u001b[0m: name 'trainer' is not defined"
     ]
    }
   ],
   "source": [
    "# Constants\n",
    "TEST_FILE_PATH = '/notebooks/Testing Set.csv'\n",
    "MAX_LENGTH = 512\n",
    "NUM_LABELS = 3\n",
    "\n",
    "def load_test_data(file_path):\n",
    "    df = pd.read_csv(file_path)\n",
    "    return df['reviews.text'], df['labels']\n",
    "\n",
    "def tokenize_data(tokenizer, texts, max_length=MAX_LENGTH):\n",
    "    return tokenizer(\n",
    "        texts.tolist(),\n",
    "        truncation=True,\n",
    "        padding='max_length',\n",
    "        max_length=max_length,\n",
    "        return_tensors='pt'\n",
    "    )\n",
    "\n",
    "def create_hf_dataset(encodings, labels):\n",
    "    return Dataset.from_dict({\n",
    "        'input_ids': encodings['input_ids'].tolist(),\n",
    "        'attention_mask': encodings['attention_mask'].tolist(),\n",
    "        'labels': labels.tolist()\n",
    "    })\n",
    "\n",
    "def calculate_metrics(y_true, y_pred):\n",
    "    return {\n",
    "        'accuracy': metrics.accuracy_score(y_true, y_pred),\n",
    "        'precision': metrics.precision_score(y_true, y_pred, average='weighted'),\n",
    "        'recall': metrics.recall_score(y_true, y_pred, average='weighted'),\n",
    "        'f1': metrics.f1_score(y_true, y_pred, average='weighted')\n",
    "    }\n",
    "\n",
    "def plot_confusion_matrix(y_true, y_pred):\n",
    "    cm = metrics.confusion_matrix(y_true, y_pred)\n",
    "    plt.figure(figsize=(10, 8))\n",
    "    sns.heatmap(cm, annot=True, fmt='d', cmap='Blues')\n",
    "    plt.title('Confusion Matrix')\n",
    "    plt.xlabel('Predicted Label')\n",
    "    plt.ylabel('True Label')\n",
    "    plt.show()\n",
    "\n",
    "def plot_metrics(metrics_dict):\n",
    "    plt.figure(figsize=(10, 6))\n",
    "    plt.bar(metrics_dict.keys(), metrics_dict.values())\n",
    "    plt.title('Model Performance Metrics')\n",
    "    plt.ylabel('Score')\n",
    "    plt.ylim(0, 1)\n",
    "    for i, v in enumerate(metrics_dict.values()):\n",
    "        plt.text(i, v, f'{v:.4f}', ha='center', va='bottom')\n",
    "    plt.show()\n",
    "\n",
    "def main():\n",
    "    # Load the test data\n",
    "    X_test, y_test = load_test_data(TEST_FILE_PATH)\n",
    "\n",
    "    # Load the pre-trained tokenizer and model\n",
    "    tokenizer = DistilBertTokenizer.from_pretrained('distilbert-base-uncased')\n",
    "    model = DistilBertForSequenceClassification.from_pretrained('./results')\n",
    "\n",
    "    # Tokenize the test data\n",
    "    test_encodings = tokenize_data(tokenizer, X_test)\n",
    "    test_dataset = create_hf_dataset(test_encodings, y_test)\n",
    "\n",
    "    # Make predictions\n",
    "    model.eval()\n",
    "    predictions = model(test_dataset['input_ids'], attention_mask=test_dataset['attention_mask'])\n",
    "    y_pred = np.argmax(predictions.logits.detach().numpy(), axis=1)\n",
    "\n",
    "    # Calculate metrics\n",
    "    result_metrics = calculate_metrics(y_test, y_pred)\n",
    "    print(\"Metrics:\")\n",
    "    for metric, value in result_metrics.items():\n",
    "        print(f\"{metric.capitalize()}: {value:.4f}\")\n",
    "\n",
    "    # Calculate loss\n",
    "    loss = predictions.loss.item()\n",
    "    print(f\"Loss: {loss:.4f}\")\n",
    "\n",
    "    # Plot confusion matrix\n",
    "    plot_confusion_matrix(y_test, y_pred)\n",
    "\n",
    "    # Plot metrics\n",
    "    plot_metrics(result_metrics)\n",
    "\n",
    "if __name__ == \"__main__\":\n",
    "    main()"
   ]
  },
  {
   "cell_type": "markdown",
   "metadata": {},
   "source": [
    "Saving the model"
   ]
  },
  {
   "cell_type": "code",
   "execution_count": null,
   "metadata": {},
   "outputs": [],
   "source": [
    "# Save the final model and tokenizer after all cross-validation and training is done\n",
    "output_dir = r\"C:\\Users\\fmrol\\Documents\\GitHub\\RobotReviews\\fredsmeds_classifier\"\n",
    "trainer.save_model(output_dir)  # Save the fine-tuned model\n",
    "tokenizer.save_pretrained(output_dir)  # Save the tokenizer\n",
    "\n",
    "print(f\"Final model and tokenizer saved to {output_dir}\")\n"
   ]
  }
 ],
 "metadata": {
  "kernelspec": {
   "display_name": "Python 3 (ipykernel)",
   "language": "python",
   "name": "python3"
  },
  "language_info": {
   "codemirror_mode": {
    "name": "ipython",
    "version": 3
   },
   "file_extension": ".py",
   "mimetype": "text/x-python",
   "name": "python",
   "nbconvert_exporter": "python",
   "pygments_lexer": "ipython3",
   "version": "3.11.7"
  }
 },
 "nbformat": 4,
 "nbformat_minor": 2
}
